{
 "cells": [
  {
   "cell_type": "code",
   "execution_count": 1,
   "metadata": {},
   "outputs": [],
   "source": [
    "import json\n",
    "import requests\n",
    "\n",
    "url = \"https://whova.com/xems/apis/event_webpage/agenda/public/get_agendas/?event_id=hNiJdTa6x0fXwYih-GVzq-m8-pq5dthqOzaSMWeJL5g%3D\"\n",
    "conference_data = requests.get(url).json()\n",
    "\n",
    "with open('./data/raw.json', 'w') as json_file:\n",
    "    json.dump(conference_data, json_file, indent=4)\n",
    "\n",
    "session_data = []\n",
    "\n",
    "for day in conference_data['data']['agenda']:\n",
    "  for time_outer in day['time_ranges']:\n",
    "    for time_inner in time_outer[1]:\n",
    "      for time_slot in time_inner:\n",
    "        for session in time_slot['sessions']:\n",
    "          session_data.append(session)\n",
    "\n",
    "def get_speaker_info(speaker):\n",
    "  if 'Speakers' in speaker:\n",
    "    speakers = speaker['Speakers']\n",
    "  elif 'Speaker' in speaker: \n",
    "    speakers = speaker['Speaker']\n",
    "  else:\n",
    "    speakers = []\n",
    "  return [sp['name'] for sp in speakers]\n",
    "\n",
    "sessions = [{\n",
    "  \"title\": s['name'],\n",
    "  'abstract': s['desc'] if 'desc' in s else '',\n",
    "  'room': s['place'] if 'place' in s else '',\n",
    "  'start_time': s['calendar_stime'],\n",
    "  'end_time': s['calendar_etime'],\n",
    "  'track': s['tracks'][0]['name'] if 'tracks' in s and len(s['tracks']) > 0 else '',\n",
    "  'speakers': get_speaker_info(s['speaker']) if 'speaker' in s else []\n",
    "} for s in session_data]\n",
    "\n",
    "with open('./data/sessions.json', 'w') as json_file:\n",
    "    json.dump([s for s in sessions if 'abstract' in s and len(s['abstract']) > 0], json_file, indent=4)"
   ]
  },
  {
   "cell_type": "code",
   "execution_count": 5,
   "metadata": {},
   "outputs": [],
   "source": [
    "from langchain.vectorstores import FAISS\n",
    "from langchain.schema import Document\n",
    "\n",
    "documents = []\n",
    "for session in sessions:\n",
    "    doc = Document(\n",
    "        page_content = session['abstract'],\n",
    "        metadata = {\n",
    "            'title': session['title'],\n",
    "            'speakers': session['speakers'],\n",
    "            'room': session['room'],\n",
    "            'start_time': session['start_time'],\n",
    "            'end_time': session['end_time']\n",
    "        }\n",
    "    )\n",
    "    documents.append(doc)"
   ]
  },
  {
   "cell_type": "code",
   "execution_count": 6,
   "metadata": {},
   "outputs": [],
   "source": [
    "from langchain_openai import OpenAIEmbeddings\n",
    "embeddings = OpenAIEmbeddings()\n",
    "embedding_model = \"openai\""
   ]
  },
  {
   "cell_type": "code",
   "execution_count": 10,
   "metadata": {},
   "outputs": [],
   "source": [
    "from langchain_huggingface import HuggingFaceEmbeddings\n",
    "embeddings = HuggingFaceEmbeddings()\n",
    "embedding_model = \"huggingface\""
   ]
  },
  {
   "cell_type": "code",
   "execution_count": 11,
   "metadata": {},
   "outputs": [],
   "source": [
    "vector_store = FAISS.from_documents(documents, embeddings)\n",
    "vector_store.save_local(\"./data/nebraska-code\", embedding_model)"
   ]
  }
 ],
 "metadata": {
  "kernelspec": {
   "display_name": ".venv",
   "language": "python",
   "name": "python3"
  },
  "language_info": {
   "codemirror_mode": {
    "name": "ipython",
    "version": 3
   },
   "file_extension": ".py",
   "mimetype": "text/x-python",
   "name": "python",
   "nbconvert_exporter": "python",
   "pygments_lexer": "ipython3",
   "version": "3.11.6"
  }
 },
 "nbformat": 4,
 "nbformat_minor": 2
}
